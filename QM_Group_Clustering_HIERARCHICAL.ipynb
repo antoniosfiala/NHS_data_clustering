{
 "cells": [
  {
   "cell_type": "markdown",
   "metadata": {},
   "source": [
    "# Quantitative methods - HIERARCHICAL - group 5 presentation code"
   ]
  },
  {
   "cell_type": "markdown",
   "metadata": {},
   "source": [
    "### IMPORT PACKAGES\n",
    "Import required packages"
   ]
  },
  {
   "cell_type": "code",
   "execution_count": 2,
   "metadata": {},
   "outputs": [],
   "source": [
    "#data manipulation\n",
    "import pandas as pd\n",
    "import numpy as np\n",
    "\n",
    "#k-means\n",
    "import numpy as np\n",
    "import sklearn.cluster as sklc\n",
    "\n",
    "#hiearchical clustering\n",
    "import numpy as np\n",
    "import scipy.cluster.hierarchy as spch\n",
    "\n",
    "#silluete scores\n",
    "import sklearn.metrics as sklm\n",
    "\n",
    "#dendrogram\n",
    "import matplotlib.pyplot as plt\n",
    "import sklearn.metrics as sklm\n",
    "import scipy.cluster.hierarchy as spch\n",
    "\n",
    "#final plots\n",
    "import seaborn as sns\n",
    "import matplotlib as plt\n",
    "import matplotlib.pyplot as plt\n",
    "\n",
    "#scaling \n",
    "from sklearn import preprocessing\n",
    "\n",
    "%matplotlib inline"
   ]
  },
  {
   "cell_type": "markdown",
   "metadata": {},
   "source": [
    "### IMPORT DATA\n",
    "Import full table and select features"
   ]
  },
  {
   "cell_type": "code",
   "execution_count": 3,
   "metadata": {},
   "outputs": [
    {
     "data": {
      "text/html": [
       "<div>\n",
       "<style scoped>\n",
       "    .dataframe tbody tr th:only-of-type {\n",
       "        vertical-align: middle;\n",
       "    }\n",
       "\n",
       "    .dataframe tbody tr th {\n",
       "        vertical-align: top;\n",
       "    }\n",
       "\n",
       "    .dataframe thead th {\n",
       "        text-align: right;\n",
       "    }\n",
       "</style>\n",
       "<table border=\"1\" class=\"dataframe\">\n",
       "  <thead>\n",
       "    <tr style=\"text-align: right;\">\n",
       "      <th></th>\n",
       "      <th>Area_code</th>\n",
       "      <th>Patient count</th>\n",
       "      <th>CV_AF</th>\n",
       "      <th>CV_CHD</th>\n",
       "      <th>CV_CVD</th>\n",
       "      <th>CV_HF</th>\n",
       "      <th>CV_LVSD</th>\n",
       "      <th>CV_HYP</th>\n",
       "      <th>CV_PAD</th>\n",
       "      <th>CV_STIA</th>\n",
       "      <th>...</th>\n",
       "      <th>HD_CKD</th>\n",
       "      <th>HD_DM</th>\n",
       "      <th>HD_PC</th>\n",
       "      <th>Neu_DEM</th>\n",
       "      <th>Neu_DEP</th>\n",
       "      <th>Neu_EP</th>\n",
       "      <th>Neu_LD</th>\n",
       "      <th>Neu_MH</th>\n",
       "      <th>MS_OST</th>\n",
       "      <th>MS_RA</th>\n",
       "    </tr>\n",
       "    <tr>\n",
       "      <th>Area_name</th>\n",
       "      <th></th>\n",
       "      <th></th>\n",
       "      <th></th>\n",
       "      <th></th>\n",
       "      <th></th>\n",
       "      <th></th>\n",
       "      <th></th>\n",
       "      <th></th>\n",
       "      <th></th>\n",
       "      <th></th>\n",
       "      <th></th>\n",
       "      <th></th>\n",
       "      <th></th>\n",
       "      <th></th>\n",
       "      <th></th>\n",
       "      <th></th>\n",
       "      <th></th>\n",
       "      <th></th>\n",
       "      <th></th>\n",
       "      <th></th>\n",
       "      <th></th>\n",
       "    </tr>\n",
       "  </thead>\n",
       "  <tbody>\n",
       "    <tr>\n",
       "      <td>WEST YORKSHIRE STP</td>\n",
       "      <td>E54000005</td>\n",
       "      <td>2,710,486</td>\n",
       "      <td>0.017530</td>\n",
       "      <td>0.033269</td>\n",
       "      <td>0.011364</td>\n",
       "      <td>0.007996</td>\n",
       "      <td>NaN</td>\n",
       "      <td>0.135138</td>\n",
       "      <td>0.006777</td>\n",
       "      <td>0.018056</td>\n",
       "      <td>...</td>\n",
       "      <td>0.038359</td>\n",
       "      <td>0.070256</td>\n",
       "      <td>0.003941</td>\n",
       "      <td>0.007557</td>\n",
       "      <td>0.104067</td>\n",
       "      <td>0.008438</td>\n",
       "      <td>0.005647</td>\n",
       "      <td>0.009517</td>\n",
       "      <td>0.005943</td>\n",
       "      <td>0.007371</td>\n",
       "    </tr>\n",
       "    <tr>\n",
       "      <td>HUMBER, COAST AND VALE STP</td>\n",
       "      <td>E54000006</td>\n",
       "      <td>1,428,962</td>\n",
       "      <td>0.022570</td>\n",
       "      <td>0.040518</td>\n",
       "      <td>0.012420</td>\n",
       "      <td>0.008486</td>\n",
       "      <td>NaN</td>\n",
       "      <td>0.155717</td>\n",
       "      <td>0.007130</td>\n",
       "      <td>0.020714</td>\n",
       "      <td>...</td>\n",
       "      <td>0.044293</td>\n",
       "      <td>0.070110</td>\n",
       "      <td>0.003274</td>\n",
       "      <td>0.008516</td>\n",
       "      <td>0.094997</td>\n",
       "      <td>0.009300</td>\n",
       "      <td>0.004699</td>\n",
       "      <td>0.008069</td>\n",
       "      <td>0.004915</td>\n",
       "      <td>0.008539</td>\n",
       "    </tr>\n",
       "    <tr>\n",
       "      <td>GREATER MANCHESTER STP</td>\n",
       "      <td>E54000007</td>\n",
       "      <td>3,044,238</td>\n",
       "      <td>0.016898</td>\n",
       "      <td>0.032779</td>\n",
       "      <td>0.011504</td>\n",
       "      <td>0.008936</td>\n",
       "      <td>NaN</td>\n",
       "      <td>0.135521</td>\n",
       "      <td>0.007432</td>\n",
       "      <td>0.017775</td>\n",
       "      <td>...</td>\n",
       "      <td>0.038841</td>\n",
       "      <td>0.071991</td>\n",
       "      <td>0.004023</td>\n",
       "      <td>0.007317</td>\n",
       "      <td>0.113701</td>\n",
       "      <td>0.008975</td>\n",
       "      <td>0.005146</td>\n",
       "      <td>0.010423</td>\n",
       "      <td>0.005948</td>\n",
       "      <td>0.006895</td>\n",
       "    </tr>\n",
       "    <tr>\n",
       "      <td>CHESHIRE AND MERSEYSIDE STP</td>\n",
       "      <td>E54000008</td>\n",
       "      <td>2,620,326</td>\n",
       "      <td>0.023235</td>\n",
       "      <td>0.037414</td>\n",
       "      <td>0.013089</td>\n",
       "      <td>0.010488</td>\n",
       "      <td>NaN</td>\n",
       "      <td>0.153691</td>\n",
       "      <td>0.008175</td>\n",
       "      <td>0.020313</td>\n",
       "      <td>...</td>\n",
       "      <td>0.048123</td>\n",
       "      <td>0.068995</td>\n",
       "      <td>0.004547</td>\n",
       "      <td>0.008390</td>\n",
       "      <td>0.118263</td>\n",
       "      <td>0.009542</td>\n",
       "      <td>0.005292</td>\n",
       "      <td>0.010865</td>\n",
       "      <td>0.007024</td>\n",
       "      <td>0.008190</td>\n",
       "    </tr>\n",
       "    <tr>\n",
       "      <td>SOUTH YORKSHIRE AND BASSETLAW STP</td>\n",
       "      <td>E54000009</td>\n",
       "      <td>1,574,811</td>\n",
       "      <td>0.020883</td>\n",
       "      <td>0.037363</td>\n",
       "      <td>0.011053</td>\n",
       "      <td>0.010077</td>\n",
       "      <td>NaN</td>\n",
       "      <td>0.144359</td>\n",
       "      <td>0.007403</td>\n",
       "      <td>0.020341</td>\n",
       "      <td>...</td>\n",
       "      <td>0.046828</td>\n",
       "      <td>0.071637</td>\n",
       "      <td>0.004116</td>\n",
       "      <td>0.008624</td>\n",
       "      <td>0.108962</td>\n",
       "      <td>0.009298</td>\n",
       "      <td>0.006038</td>\n",
       "      <td>0.008666</td>\n",
       "      <td>0.004553</td>\n",
       "      <td>0.007600</td>\n",
       "    </tr>\n",
       "  </tbody>\n",
       "</table>\n",
       "<p>5 rows × 24 columns</p>\n",
       "</div>"
      ],
      "text/plain": [
       "                                   Area_code Patient count     CV_AF  \\\n",
       "Area_name                                                              \n",
       "WEST YORKSHIRE STP                 E54000005     2,710,486  0.017530   \n",
       "HUMBER, COAST AND VALE STP         E54000006     1,428,962  0.022570   \n",
       "GREATER MANCHESTER STP             E54000007     3,044,238  0.016898   \n",
       "CHESHIRE AND MERSEYSIDE STP        E54000008     2,620,326  0.023235   \n",
       "SOUTH YORKSHIRE AND BASSETLAW STP  E54000009     1,574,811  0.020883   \n",
       "\n",
       "                                     CV_CHD    CV_CVD     CV_HF  CV_LVSD  \\\n",
       "Area_name                                                                  \n",
       "WEST YORKSHIRE STP                 0.033269  0.011364  0.007996      NaN   \n",
       "HUMBER, COAST AND VALE STP         0.040518  0.012420  0.008486      NaN   \n",
       "GREATER MANCHESTER STP             0.032779  0.011504  0.008936      NaN   \n",
       "CHESHIRE AND MERSEYSIDE STP        0.037414  0.013089  0.010488      NaN   \n",
       "SOUTH YORKSHIRE AND BASSETLAW STP  0.037363  0.011053  0.010077      NaN   \n",
       "\n",
       "                                     CV_HYP    CV_PAD   CV_STIA  ...  \\\n",
       "Area_name                                                        ...   \n",
       "WEST YORKSHIRE STP                 0.135138  0.006777  0.018056  ...   \n",
       "HUMBER, COAST AND VALE STP         0.155717  0.007130  0.020714  ...   \n",
       "GREATER MANCHESTER STP             0.135521  0.007432  0.017775  ...   \n",
       "CHESHIRE AND MERSEYSIDE STP        0.153691  0.008175  0.020313  ...   \n",
       "SOUTH YORKSHIRE AND BASSETLAW STP  0.144359  0.007403  0.020341  ...   \n",
       "\n",
       "                                     HD_CKD     HD_DM     HD_PC   Neu_DEM  \\\n",
       "Area_name                                                                   \n",
       "WEST YORKSHIRE STP                 0.038359  0.070256  0.003941  0.007557   \n",
       "HUMBER, COAST AND VALE STP         0.044293  0.070110  0.003274  0.008516   \n",
       "GREATER MANCHESTER STP             0.038841  0.071991  0.004023  0.007317   \n",
       "CHESHIRE AND MERSEYSIDE STP        0.048123  0.068995  0.004547  0.008390   \n",
       "SOUTH YORKSHIRE AND BASSETLAW STP  0.046828  0.071637  0.004116  0.008624   \n",
       "\n",
       "                                    Neu_DEP    Neu_EP    Neu_LD    Neu_MH  \\\n",
       "Area_name                                                                   \n",
       "WEST YORKSHIRE STP                 0.104067  0.008438  0.005647  0.009517   \n",
       "HUMBER, COAST AND VALE STP         0.094997  0.009300  0.004699  0.008069   \n",
       "GREATER MANCHESTER STP             0.113701  0.008975  0.005146  0.010423   \n",
       "CHESHIRE AND MERSEYSIDE STP        0.118263  0.009542  0.005292  0.010865   \n",
       "SOUTH YORKSHIRE AND BASSETLAW STP  0.108962  0.009298  0.006038  0.008666   \n",
       "\n",
       "                                     MS_OST     MS_RA  \n",
       "Area_name                                              \n",
       "WEST YORKSHIRE STP                 0.005943  0.007371  \n",
       "HUMBER, COAST AND VALE STP         0.004915  0.008539  \n",
       "GREATER MANCHESTER STP             0.005948  0.006895  \n",
       "CHESHIRE AND MERSEYSIDE STP        0.007024  0.008190  \n",
       "SOUTH YORKSHIRE AND BASSETLAW STP  0.004553  0.007600  \n",
       "\n",
       "[5 rows x 24 columns]"
      ]
     },
     "execution_count": 3,
     "metadata": {},
     "output_type": "execute_result"
    }
   ],
   "source": [
    "#full dataset\n",
    "\n",
    "df_path = \"/Users/antonios/Documents/Dropbox/Public/QM_Group_Presentation/NHS clusters/1. Data/CSVs/QM_Group_5_STP_Data.csv\"\n",
    "#Manually scaled dataset for testing\n",
    "#df_path = \"/Users/antonios/Documents/Dropbox/Public/QM_Group_Presentation/NHS clusters/1. Data/Standardisation/QM_Group_5_STP_Data_Stand_AF.csv\"\n",
    "\n",
    "df_NHS_full = pd.read_csv(df_path)\n",
    "df_NHS_full = df_NHS_full.set_index(\"Area_name\")\n",
    "df_NHS_full.head()"
   ]
  },
  {
   "cell_type": "markdown",
   "metadata": {},
   "source": [
    "#### SAMPLE DATA\n",
    "Sub-select relevant columns"
   ]
  },
  {
   "cell_type": "code",
   "execution_count": 4,
   "metadata": {},
   "outputs": [
    {
     "name": "stderr",
     "output_type": "stream",
     "text": [
      "/Users/antonios/opt/anaconda3/lib/python3.7/site-packages/pandas/core/indexing.py:576: SettingWithCopyWarning: \n",
      "A value is trying to be set on a copy of a slice from a DataFrame.\n",
      "Try using .loc[row_indexer,col_indexer] = value instead\n",
      "\n",
      "See the caveats in the documentation: http://pandas.pydata.org/pandas-docs/stable/user_guide/indexing.html#returning-a-view-versus-a-copy\n",
      "  self.obj[item_labels[indexer[info_axis]]] = value\n"
     ]
    },
    {
     "data": {
      "text/html": [
       "<div>\n",
       "<style scoped>\n",
       "    .dataframe tbody tr th:only-of-type {\n",
       "        vertical-align: middle;\n",
       "    }\n",
       "\n",
       "    .dataframe tbody tr th {\n",
       "        vertical-align: top;\n",
       "    }\n",
       "\n",
       "    .dataframe thead th {\n",
       "        text-align: right;\n",
       "    }\n",
       "</style>\n",
       "<table border=\"1\" class=\"dataframe\">\n",
       "  <thead>\n",
       "    <tr style=\"text-align: right;\">\n",
       "      <th></th>\n",
       "      <th>Hypertension</th>\n",
       "      <th>Obesity</th>\n",
       "      <th>Cancer</th>\n",
       "      <th>Depression</th>\n",
       "      <th>Mental health</th>\n",
       "      <th>Asthma</th>\n",
       "    </tr>\n",
       "  </thead>\n",
       "  <tbody>\n",
       "    <tr>\n",
       "      <td>count</td>\n",
       "      <td>44.000000</td>\n",
       "      <td>44.000000</td>\n",
       "      <td>44.000000</td>\n",
       "      <td>44.000000</td>\n",
       "      <td>44.000000</td>\n",
       "      <td>44.000000</td>\n",
       "    </tr>\n",
       "    <tr>\n",
       "      <td>mean</td>\n",
       "      <td>14.245036</td>\n",
       "      <td>9.794524</td>\n",
       "      <td>2.852103</td>\n",
       "      <td>10.007908</td>\n",
       "      <td>0.912965</td>\n",
       "      <td>6.040094</td>\n",
       "    </tr>\n",
       "    <tr>\n",
       "      <td>std</td>\n",
       "      <td>1.650992</td>\n",
       "      <td>1.722609</td>\n",
       "      <td>0.521830</td>\n",
       "      <td>1.444589</td>\n",
       "      <td>0.123327</td>\n",
       "      <td>0.668985</td>\n",
       "    </tr>\n",
       "    <tr>\n",
       "      <td>min</td>\n",
       "      <td>10.560932</td>\n",
       "      <td>5.820715</td>\n",
       "      <td>1.525505</td>\n",
       "      <td>6.384569</td>\n",
       "      <td>0.722217</td>\n",
       "      <td>4.389151</td>\n",
       "    </tr>\n",
       "    <tr>\n",
       "      <td>25%</td>\n",
       "      <td>13.162746</td>\n",
       "      <td>8.540744</td>\n",
       "      <td>2.569907</td>\n",
       "      <td>9.333540</td>\n",
       "      <td>0.817965</td>\n",
       "      <td>5.807491</td>\n",
       "    </tr>\n",
       "    <tr>\n",
       "      <td>50%</td>\n",
       "      <td>14.423130</td>\n",
       "      <td>9.717108</td>\n",
       "      <td>2.951305</td>\n",
       "      <td>10.027425</td>\n",
       "      <td>0.867090</td>\n",
       "      <td>6.265985</td>\n",
       "    </tr>\n",
       "    <tr>\n",
       "      <td>75%</td>\n",
       "      <td>15.520476</td>\n",
       "      <td>11.150265</td>\n",
       "      <td>3.200263</td>\n",
       "      <td>10.915953</td>\n",
       "      <td>0.996901</td>\n",
       "      <td>6.502184</td>\n",
       "    </tr>\n",
       "    <tr>\n",
       "      <td>max</td>\n",
       "      <td>16.600187</td>\n",
       "      <td>13.272109</td>\n",
       "      <td>3.840752</td>\n",
       "      <td>12.820154</td>\n",
       "      <td>1.267849</td>\n",
       "      <td>6.878169</td>\n",
       "    </tr>\n",
       "  </tbody>\n",
       "</table>\n",
       "</div>"
      ],
      "text/plain": [
       "       Hypertension    Obesity     Cancer  Depression  Mental health  \\\n",
       "count     44.000000  44.000000  44.000000   44.000000      44.000000   \n",
       "mean      14.245036   9.794524   2.852103   10.007908       0.912965   \n",
       "std        1.650992   1.722609   0.521830    1.444589       0.123327   \n",
       "min       10.560932   5.820715   1.525505    6.384569       0.722217   \n",
       "25%       13.162746   8.540744   2.569907    9.333540       0.817965   \n",
       "50%       14.423130   9.717108   2.951305   10.027425       0.867090   \n",
       "75%       15.520476  11.150265   3.200263   10.915953       0.996901   \n",
       "max       16.600187  13.272109   3.840752   12.820154       1.267849   \n",
       "\n",
       "          Asthma  \n",
       "count  44.000000  \n",
       "mean    6.040094  \n",
       "std     0.668985  \n",
       "min     4.389151  \n",
       "25%     5.807491  \n",
       "50%     6.265985  \n",
       "75%     6.502184  \n",
       "max     6.878169  "
      ]
     },
     "execution_count": 4,
     "metadata": {},
     "output_type": "execute_result"
    }
   ],
   "source": [
    "#ADD COLUMN NAMES OF WANTED VARIABLES HERE\n",
    "wanted_variables = [\"CV_HYP\",\"LS_OB\",\"HD_CAN\",\"Neu_DEP\",\"Neu_MH\",\"Resp_AST\"]\n",
    "\n",
    "df_NHS_sample = df_NHS_full[wanted_variables]\n",
    "df_NHS_transform = df_NHS_full[wanted_variables]\n",
    "\n",
    "df_NHS_sample.head()\n",
    "\n",
    "\n",
    "        #df1['GG'][key]=df[key].loc[df['2010'].iloc[:,0]=='GG']\n",
    "\n",
    "\n",
    "#Transform to multiply all % by 100\n",
    "for column in wanted_variables:\n",
    "    df_NHS_transform.loc[:,column] = (df_NHS_sample.loc[:,column]*100).copy()\n",
    "    \n",
    "df_NHS_transform.columns = [\"Hypertension\",\"Obesity\",\"Cancer\",\"Depression\",\"Mental health\",\"Asthma\"]\n",
    "df_NHS_transform.index.name = \"Area name\"\n",
    "\n",
    "\n",
    "df_NHS_transform.describe()"
   ]
  },
  {
   "cell_type": "code",
   "execution_count": 5,
   "metadata": {},
   "outputs": [],
   "source": [
    "#Scaling code from: https://medium.com/@rrfd/standardize-or-normalize-examples-in-python-e3f174b65dfc\n",
    "\n",
    "# Get column names first\n",
    "names = df_NHS_transform.columns\n",
    "# Create the Scaler object\n",
    "scaler = preprocessing.StandardScaler()\n",
    "# Fit your data on the scaler object\n",
    "df_NHS_scaled = scaler.fit_transform(df_NHS_transform)\n",
    "df_NHS_scaled = pd.DataFrame(df_NHS_scaled, columns=names)\n",
    "\n",
    "df_NHS_scaled.set_index(df_NHS_transform.index, inplace = True)\n",
    "df_NHS_scaled.describe()\n",
    "df_NHS_scaled.describe().apply(lambda s: s.apply(lambda x: format(x, 'g')))\n",
    "\n",
    "df_NHS_scaled_log = df_NHS_scaled\n"
   ]
  },
  {
   "cell_type": "code",
   "execution_count": null,
   "metadata": {},
   "outputs": [],
   "source": []
  },
  {
   "cell_type": "markdown",
   "metadata": {},
   "source": [
    "#### VISUALISE DATA"
   ]
  },
  {
   "cell_type": "code",
   "execution_count": 6,
   "metadata": {},
   "outputs": [],
   "source": [
    "#Function to take in any dataframe with only numerical columns\n",
    "file_count = 0\n",
    "\n",
    "def f_plot(dataframe):\n",
    "    sns_plot = sns.pairplot(dataframe, height=3, aspect=1.5)\n",
    "    \n",
    "    global file_count\n",
    "    file_count = file_count +1\n",
    "    \n",
    "    fig = sns_plot.fig\n",
    "    fig.savefig(f\"Hierarchical_plot_{file_count}_output.png\")"
   ]
  },
  {
   "cell_type": "code",
   "execution_count": 7,
   "metadata": {},
   "outputs": [],
   "source": [
    "#f_plot(df_NHS_transform)"
   ]
  },
  {
   "cell_type": "markdown",
   "metadata": {},
   "source": [
    "### HIERARCHICAL CLUSTERING"
   ]
  },
  {
   "cell_type": "code",
   "execution_count": 8,
   "metadata": {},
   "outputs": [
    {
     "data": {
      "text/html": [
       "<div>\n",
       "<style scoped>\n",
       "    .dataframe tbody tr th:only-of-type {\n",
       "        vertical-align: middle;\n",
       "    }\n",
       "\n",
       "    .dataframe tbody tr th {\n",
       "        vertical-align: top;\n",
       "    }\n",
       "\n",
       "    .dataframe thead th {\n",
       "        text-align: right;\n",
       "    }\n",
       "</style>\n",
       "<table border=\"1\" class=\"dataframe\">\n",
       "  <thead>\n",
       "    <tr style=\"text-align: right;\">\n",
       "      <th></th>\n",
       "      <th>Hypertension</th>\n",
       "      <th>Obesity</th>\n",
       "      <th>Cancer</th>\n",
       "      <th>Depression</th>\n",
       "      <th>Mental health</th>\n",
       "      <th>Asthma</th>\n",
       "    </tr>\n",
       "    <tr>\n",
       "      <th>Area name</th>\n",
       "      <th></th>\n",
       "      <th></th>\n",
       "      <th></th>\n",
       "      <th></th>\n",
       "      <th></th>\n",
       "      <th></th>\n",
       "    </tr>\n",
       "  </thead>\n",
       "  <tbody>\n",
       "    <tr>\n",
       "      <td>WEST YORKSHIRE STP</td>\n",
       "      <td>-0.448042</td>\n",
       "      <td>0.801245</td>\n",
       "      <td>-0.508483</td>\n",
       "      <td>0.279284</td>\n",
       "      <td>0.317505</td>\n",
       "      <td>0.486241</td>\n",
       "    </tr>\n",
       "    <tr>\n",
       "      <td>HUMBER, COAST AND VALE STP</td>\n",
       "      <td>0.812860</td>\n",
       "      <td>0.865889</td>\n",
       "      <td>0.633591</td>\n",
       "      <td>-0.355897</td>\n",
       "      <td>-0.869572</td>\n",
       "      <td>0.518328</td>\n",
       "    </tr>\n",
       "    <tr>\n",
       "      <td>GREATER MANCHESTER STP</td>\n",
       "      <td>-0.424545</td>\n",
       "      <td>0.359973</td>\n",
       "      <td>-0.798182</td>\n",
       "      <td>0.953832</td>\n",
       "      <td>1.060551</td>\n",
       "      <td>0.552939</td>\n",
       "    </tr>\n",
       "    <tr>\n",
       "      <td>CHESHIRE AND MERSEYSIDE STP</td>\n",
       "      <td>0.688701</td>\n",
       "      <td>0.794421</td>\n",
       "      <td>0.371492</td>\n",
       "      <td>1.273283</td>\n",
       "      <td>1.423437</td>\n",
       "      <td>0.389044</td>\n",
       "    </tr>\n",
       "    <tr>\n",
       "      <td>SOUTH YORKSHIRE AND BASSETLAW STP</td>\n",
       "      <td>0.116937</td>\n",
       "      <td>1.460910</td>\n",
       "      <td>-0.417069</td>\n",
       "      <td>0.621999</td>\n",
       "      <td>-0.380461</td>\n",
       "      <td>0.319346</td>\n",
       "    </tr>\n",
       "  </tbody>\n",
       "</table>\n",
       "</div>"
      ],
      "text/plain": [
       "                                   Hypertension   Obesity    Cancer  \\\n",
       "Area name                                                             \n",
       "WEST YORKSHIRE STP                    -0.448042  0.801245 -0.508483   \n",
       "HUMBER, COAST AND VALE STP             0.812860  0.865889  0.633591   \n",
       "GREATER MANCHESTER STP                -0.424545  0.359973 -0.798182   \n",
       "CHESHIRE AND MERSEYSIDE STP            0.688701  0.794421  0.371492   \n",
       "SOUTH YORKSHIRE AND BASSETLAW STP      0.116937  1.460910 -0.417069   \n",
       "\n",
       "                                   Depression  Mental health    Asthma  \n",
       "Area name                                                               \n",
       "WEST YORKSHIRE STP                   0.279284       0.317505  0.486241  \n",
       "HUMBER, COAST AND VALE STP          -0.355897      -0.869572  0.518328  \n",
       "GREATER MANCHESTER STP               0.953832       1.060551  0.552939  \n",
       "CHESHIRE AND MERSEYSIDE STP          1.273283       1.423437  0.389044  \n",
       "SOUTH YORKSHIRE AND BASSETLAW STP    0.621999      -0.380461  0.319346  "
      ]
     },
     "execution_count": 8,
     "metadata": {},
     "output_type": "execute_result"
    }
   ],
   "source": [
    "###SET UP DATA \n",
    "\n",
    "#Create dataframe with only the columns on which we are doing our cluster analysis\n",
    "df_analyse = df_NHS_scaled\n",
    "df_master = df_NHS_scaled\n",
    "df_analyse.head()"
   ]
  },
  {
   "cell_type": "code",
   "execution_count": 9,
   "metadata": {},
   "outputs": [],
   "source": [
    "#Cluster criteria\n",
    "\n",
    "u_method = \"single\"\n",
    "u_metric = \"euclidean\"\n",
    "u_criterion = \"distance\""
   ]
  },
  {
   "cell_type": "code",
   "execution_count": 11,
   "metadata": {
    "scrolled": false
   },
   "outputs": [
    {
     "data": {
      "image/png": "[encoded data removed]",
      "text/plain": [
       "<Figure size 432x288 with 1 Axes>"
      ]
     },
     "metadata": {
      "needs_background": "light"
     },
     "output_type": "display_data"
    },
    {
     "data": {
      "text/plain": [
       "<Figure size 504x504 with 0 Axes>"
      ]
     },
     "metadata": {},
     "output_type": "display_data"
    },
    {
     "name": "stdout",
     "output_type": "stream",
     "text": [
      "\n"
     ]
    },
    {
     "data": {
      "text/plain": [
       "<Figure size 432x288 with 0 Axes>"
      ]
     },
     "metadata": {},
     "output_type": "display_data"
    }
   ],
   "source": [
    "#DENDROGRAM\n",
    "\n",
    "# The following lines create and display a dendrogram, saving it as a png:\n",
    "\n",
    "Z = spch.linkage(df_analyse, method=u_method, metric=u_metric)\n",
    "spch.dendrogram(Z,orientation='right')\n",
    "plt.suptitle(\"Dendrogram\", fontsize = 14, va = \"center\")\n",
    "plt.yticks([])\n",
    "plt.figure(figsize = (7,7))\n",
    "plt.show()\n",
    "plt.savefig('my_dendrogram.png')\n",
    "\n",
    "# Dendrogram (ugly axes - we'll talk about how to deal with this next week)\n",
    "print()\n",
    "\n",
    "#Z = spch.linkage(df_analyse, method=u_method, metric=u_metric)\n",
    "#plt.figure(30,figsize = (10,20))\n",
    "#spch.dendrogram(Z,orientation='right',color_threshold=4)\n",
    "\n",
    "#plt.suptitle(\"Dendrogram\", fontsize = 14, va = \"center\")\n",
    "#plt.show()\n",
    "#plt.savefig('q8_dendrogram.png')\n",
    "\n"
   ]
  },
  {
   "cell_type": "code",
   "execution_count": 12,
   "metadata": {},
   "outputs": [
    {
     "name": "stdout",
     "output_type": "stream",
     "text": [
      "The optimal radius, as determined by silhouette analysis, is 2.1052631578947367.\n",
      "The silhouette score for r = 2.1052631578947367 is 0.5399797033855835.\n",
      "This corresponds to 2 clusters.\n"
     ]
    },
    {
     "name": "stderr",
     "output_type": "stream",
     "text": [
      "/Users/antonios/opt/anaconda3/lib/python3.7/site-packages/ipykernel_launcher.py:35: FutureWarning: \n",
      "The current behaviour of 'Series.argmax' is deprecated, use 'idxmax'\n",
      "instead.\n",
      "The behavior of 'argmax' will be corrected to return the positional\n",
      "maximum in the future. For now, use 'series.values.argmax' or\n",
      "'np.argmax(np.array(values))' to get the position of the maximum\n",
      "row.\n"
     ]
    }
   ],
   "source": [
    "# The procedure is almost identical to the previous question, but for a different clustering method:\n",
    "\n",
    "distance_thresholds = np.linspace(0,20,20)\n",
    "\n",
    "cluster_ids_series_h = []\n",
    "cluster_shs_series_h = []\n",
    "cluster_k_series_h   = []\n",
    "\n",
    "for r in distance_thresholds:\n",
    "\n",
    "    # Perform clustering:\n",
    "    \n",
    "    new_cluster_allocations = spch.fclusterdata(df_analyse, r, criterion=u_criterion, method=u_method)\n",
    "    \n",
    "    # Store the number of distinct clusters\n",
    "    \n",
    "    num_clusters = 1 + new_cluster_allocations.max() - new_cluster_allocations.min()\n",
    "    \n",
    "    # Update lists:\n",
    "    \n",
    "    cluster_ids_series_h.append(new_cluster_allocations)\n",
    "    cluster_k_series_h.append(num_clusters)\n",
    "    \n",
    "    try:\n",
    "        cluster_shs_series_h.append(sklm.silhouette_score(df_analyse,new_cluster_allocations))\n",
    "    except:\n",
    "        cluster_shs_series_h.append(0)\n",
    "\n",
    "# Basically the same as Q7:\n",
    "        \n",
    "report_dict_h = {'r':distance_thresholds,'k':cluster_k_series_h,'Silhouette Score':cluster_shs_series_h}\n",
    "report_df_h   = pd.DataFrame(report_dict_h)\n",
    "report_df_h   = report_df_h.dropna(how='any')\n",
    "\n",
    "optimal_row_by_silhouette_score_h = report_df_h['Silhouette Score'].argmax()\n",
    "optimal_r_by_silhouette_score_h   = report_df_h.loc[optimal_row_by_silhouette_score_h,'r']\n",
    "optimal_k_by_silhouette_score_h   = report_df_h.loc[optimal_row_by_silhouette_score_h,'k']\n",
    "optimal_silhouette_score_h        = report_df_h.loc[optimal_row_by_silhouette_score_h,'Silhouette Score']\n",
    "\n",
    "print('The optimal radius, as determined by silhouette analysis, is ' + str(optimal_r_by_silhouette_score_h) + \".\")\n",
    "print('The silhouette score for r = ' + str(optimal_r_by_silhouette_score_h) + \" is \" + str(optimal_silhouette_score_h) + \".\")\n",
    "print('This corresponds to ' + str(optimal_k_by_silhouette_score_h) + ' clusters.')"
   ]
  },
  {
   "cell_type": "code",
   "execution_count": 11,
   "metadata": {},
   "outputs": [
    {
     "data": {
      "image/png": "[encoded data removed]",
      "text/plain": [
       "<Figure size 504x504 with 1 Axes>"
      ]
     },
     "metadata": {
      "needs_background": "light"
     },
     "output_type": "display_data"
    }
   ],
   "source": [
    "fignum = 21\n",
    "plt.figure(fignum,figsize = (7,7))\n",
    "plt.plot(report_df_h.index,report_df_h['Silhouette Score'],'ro')\n",
    "\n",
    "plt.gca().set_xlim([0,int(distance_thresholds.max())])\n",
    "plt.gca().set_xticks(range(int(distance_thresholds.max())+1))\n",
    "plt.gca().set_ylim([-1,1])\n",
    "\n",
    "plt.suptitle('Silhouette plot', fontsize=14, va = \"center\")\n",
    "\n",
    "plt.savefig('silhouette_plot' + str(fignum) +'.png')\n",
    "plt.show()"
   ]
  },
  {
   "cell_type": "code",
   "execution_count": 12,
   "metadata": {},
   "outputs": [
    {
     "data": {
      "text/html": [
       "<div>\n",
       "<style scoped>\n",
       "    .dataframe tbody tr th:only-of-type {\n",
       "        vertical-align: middle;\n",
       "    }\n",
       "\n",
       "    .dataframe tbody tr th {\n",
       "        vertical-align: top;\n",
       "    }\n",
       "\n",
       "    .dataframe thead th {\n",
       "        text-align: right;\n",
       "    }\n",
       "</style>\n",
       "<table border=\"1\" class=\"dataframe\">\n",
       "  <thead>\n",
       "    <tr style=\"text-align: right;\">\n",
       "      <th></th>\n",
       "      <th>Hypertension</th>\n",
       "      <th>Obesity</th>\n",
       "      <th>Cancer</th>\n",
       "      <th>Depression</th>\n",
       "      <th>Mental health</th>\n",
       "      <th>Asthma</th>\n",
       "      <th>optimal_hagglom_cluster_ids</th>\n",
       "    </tr>\n",
       "    <tr>\n",
       "      <th>Area name</th>\n",
       "      <th></th>\n",
       "      <th></th>\n",
       "      <th></th>\n",
       "      <th></th>\n",
       "      <th></th>\n",
       "      <th></th>\n",
       "      <th></th>\n",
       "    </tr>\n",
       "  </thead>\n",
       "  <tbody>\n",
       "    <tr>\n",
       "      <td>WEST YORKSHIRE STP</td>\n",
       "      <td>-0.448042</td>\n",
       "      <td>0.801245</td>\n",
       "      <td>-0.508483</td>\n",
       "      <td>0.279284</td>\n",
       "      <td>0.317505</td>\n",
       "      <td>0.486241</td>\n",
       "      <td>1</td>\n",
       "    </tr>\n",
       "    <tr>\n",
       "      <td>HUMBER, COAST AND VALE STP</td>\n",
       "      <td>0.812860</td>\n",
       "      <td>0.865889</td>\n",
       "      <td>0.633591</td>\n",
       "      <td>-0.355897</td>\n",
       "      <td>-0.869572</td>\n",
       "      <td>0.518328</td>\n",
       "      <td>1</td>\n",
       "    </tr>\n",
       "    <tr>\n",
       "      <td>GREATER MANCHESTER STP</td>\n",
       "      <td>-0.424545</td>\n",
       "      <td>0.359973</td>\n",
       "      <td>-0.798182</td>\n",
       "      <td>0.953832</td>\n",
       "      <td>1.060551</td>\n",
       "      <td>0.552939</td>\n",
       "      <td>1</td>\n",
       "    </tr>\n",
       "    <tr>\n",
       "      <td>CHESHIRE AND MERSEYSIDE STP</td>\n",
       "      <td>0.688701</td>\n",
       "      <td>0.794421</td>\n",
       "      <td>0.371492</td>\n",
       "      <td>1.273283</td>\n",
       "      <td>1.423437</td>\n",
       "      <td>0.389044</td>\n",
       "      <td>1</td>\n",
       "    </tr>\n",
       "    <tr>\n",
       "      <td>SOUTH YORKSHIRE AND BASSETLAW STP</td>\n",
       "      <td>0.116937</td>\n",
       "      <td>1.460910</td>\n",
       "      <td>-0.417069</td>\n",
       "      <td>0.621999</td>\n",
       "      <td>-0.380461</td>\n",
       "      <td>0.319346</td>\n",
       "      <td>1</td>\n",
       "    </tr>\n",
       "  </tbody>\n",
       "</table>\n",
       "</div>"
      ],
      "text/plain": [
       "                                   Hypertension   Obesity    Cancer  \\\n",
       "Area name                                                             \n",
       "WEST YORKSHIRE STP                    -0.448042  0.801245 -0.508483   \n",
       "HUMBER, COAST AND VALE STP             0.812860  0.865889  0.633591   \n",
       "GREATER MANCHESTER STP                -0.424545  0.359973 -0.798182   \n",
       "CHESHIRE AND MERSEYSIDE STP            0.688701  0.794421  0.371492   \n",
       "SOUTH YORKSHIRE AND BASSETLAW STP      0.116937  1.460910 -0.417069   \n",
       "\n",
       "                                   Depression  Mental health    Asthma  \\\n",
       "Area name                                                                \n",
       "WEST YORKSHIRE STP                   0.279284       0.317505  0.486241   \n",
       "HUMBER, COAST AND VALE STP          -0.355897      -0.869572  0.518328   \n",
       "GREATER MANCHESTER STP               0.953832       1.060551  0.552939   \n",
       "CHESHIRE AND MERSEYSIDE STP          1.273283       1.423437  0.389044   \n",
       "SOUTH YORKSHIRE AND BASSETLAW STP    0.621999      -0.380461  0.319346   \n",
       "\n",
       "                                   optimal_hagglom_cluster_ids  \n",
       "Area name                                                       \n",
       "WEST YORKSHIRE STP                                           1  \n",
       "HUMBER, COAST AND VALE STP                                   1  \n",
       "GREATER MANCHESTER STP                                       1  \n",
       "CHESHIRE AND MERSEYSIDE STP                                  1  \n",
       "SOUTH YORKSHIRE AND BASSETLAW STP                            1  "
      ]
     },
     "execution_count": 12,
     "metadata": {},
     "output_type": "execute_result"
    }
   ],
   "source": [
    "# We will add the optimal cluster ids to the main dataframe:\n",
    "\n",
    "optimal_cluster_ids_h = cluster_ids_series_h[optimal_row_by_silhouette_score_h]\n",
    "df_master['optimal_hagglom_cluster_ids'] = optimal_cluster_ids_h\n",
    "\n",
    "df_master.head()"
   ]
  },
  {
   "cell_type": "code",
   "execution_count": null,
   "metadata": {},
   "outputs": [],
   "source": []
  },
  {
   "cell_type": "code",
   "execution_count": 13,
   "metadata": {
    "scrolled": false
   },
   "outputs": [
    {
     "data": {
      "image/png": "[encoded data removed]",
      "text/plain": [
       "<Figure size 504x504 with 1 Axes>"
      ]
     },
     "metadata": {
      "needs_background": "light"
     },
     "output_type": "display_data"
    },
    {
     "data": {
      "image/png": "[encoded data removed]",
      "text/plain": [
       "<Figure size 504x504 with 1 Axes>"
      ]
     },
     "metadata": {
      "needs_background": "light"
     },
     "output_type": "display_data"
    },
    {
     "data": {
      "image/png": "[encoded data removed]",
      "text/plain": [
       "<Figure size 504x504 with 1 Axes>"
      ]
     },
     "metadata": {
      "needs_background": "light"
     },
     "output_type": "display_data"
    },
    {
     "data": {
      "image/png": "[encoded data removed]",
      "text/plain": [
       "<Figure size 504x504 with 1 Axes>"
      ]
     },
     "metadata": {
      "needs_background": "light"
     },
     "output_type": "display_data"
    },
    {
     "data": {
      "image/png": "[encoded data removed]",
      "text/plain": [
       "<Figure size 504x504 with 1 Axes>"
      ]
     },
     "metadata": {
      "needs_background": "light"
     },
     "output_type": "display_data"
    },
    {
     "data": {
      "image/png": "[encoded data removed]",
      "text/plain": [
       "<Figure size 504x504 with 1 Axes>"
      ]
     },
     "metadata": {
      "needs_background": "light"
     },
     "output_type": "display_data"
    },
    {
     "data": {
      "image/png": "[encoded data removed]",
      "text/plain": [
       "<Figure size 504x504 with 1 Axes>"
      ]
     },
     "metadata": {
      "needs_background": "light"
     },
     "output_type": "display_data"
    },
    {
     "data": {
      "image/png": "[encoded data removed]",
      "text/plain": [
       "<Figure size 504x504 with 1 Axes>"
      ]
     },
     "metadata": {
      "needs_background": "light"
     },
     "output_type": "display_data"
    },
    {
     "data": {
      "image/png": "[encoded data removed]",
      "text/plain": [
       "<Figure size 504x504 with 1 Axes>"
      ]
     },
     "metadata": {
      "needs_background": "light"
     },
     "output_type": "display_data"
    },
    {
     "data": {
      "image/png": "[encoded data removed]",
      "text/plain": [
       "<Figure size 504x504 with 1 Axes>"
      ]
     },
     "metadata": {
      "needs_background": "light"
     },
     "output_type": "display_data"
    },
    {
     "data": {
      "image/png": "[encoded data removed]",
      "text/plain": [
       "<Figure size 504x504 with 1 Axes>"
      ]
     },
     "metadata": {
      "needs_background": "light"
     },
     "output_type": "display_data"
    },
    {
     "data": {
      "image/png": "[encoded data removed]",
      "text/plain": [
       "<Figure size 504x504 with 1 Axes>"
      ]
     },
     "metadata": {
      "needs_background": "light"
     },
     "output_type": "display_data"
    }
   ],
   "source": [
    "# ... let's visualise these clusters in 2D plots, taking two variables at a time.\n",
    "\n",
    "colours = ['r',\"g\",'b','g','m','k','c','y'] * 12\n",
    "icons   = ['o',\"s\",'x','s','.','v','^','<','>','*','+','D','d'] * 7\n",
    "\n",
    "# k variable defined in previous cell\n",
    "k = 20\n",
    "\n",
    "def plot_clusters_for_two_variables(data,data_clusters,var1,var2,fignum):\n",
    "\n",
    "    plt.figure(fignum,figsize = (7,7))\n",
    "\n",
    "    for i in range(k):\n",
    "        \n",
    "        plt.figure(fignum)\n",
    "        data_this_cluster = data[data_clusters==i]\n",
    "        \n",
    "        plt.plot(data_this_cluster[var1],data_this_cluster[var2],colours[i] + icons[i])\n",
    "\n",
    "        plt.gca().set_aspect('equal')\n",
    "        plt.gca().set_xlim([-5,5])\n",
    "        plt.gca().set_ylim([-5,5])\n",
    "    \n",
    "    plt.xlabel(var1)\n",
    "    plt.ylabel(var2)\n",
    "    plt.suptitle(f\"{var1}-{var2} cluster plot\", size = 14)\n",
    "    plt.savefig('clusters_' + str(fignum) +'.png')\n",
    "\n",
    "    plt.show()\n",
    "    \n",
    "cluster_ids = df_master['optimal_hagglom_cluster_ids']\n",
    "\n",
    "#call function above to plot \n",
    "\n",
    "#COLUMN NAMES: CV_HYP\tResp_AST\tLS_OB\tHD_CAN\tNeu_DEP\tNeu_MH\n",
    "\n",
    "\n",
    "\n",
    "\n",
    "\n",
    "plot_clusters_for_two_variables(df_master,cluster_ids,'Hypertension','Asthma',10)\n",
    "plot_clusters_for_two_variables(df_master,cluster_ids,'Hypertension','Mental health',11)\n",
    "\n",
    "plot_clusters_for_two_variables(df_master,cluster_ids,'Hypertension','Depression',12)\n",
    "plot_clusters_for_two_variables(df_master,cluster_ids,'Hypertension','Obesity',13)\n",
    "\n",
    "plot_clusters_for_two_variables(df_master,cluster_ids,'Asthma','Cancer',14)\n",
    "plot_clusters_for_two_variables(df_master,cluster_ids,'Asthma','Hypertension',15)\n",
    "############################\n",
    "\n",
    "plot_clusters_for_two_variables(df_master,cluster_ids,'Asthma','Mental health',16)\n",
    "\n",
    "plot_clusters_for_two_variables(df_master,cluster_ids,'Asthma','Depression',17)\n",
    "plot_clusters_for_two_variables(df_master,cluster_ids,'Asthma','Obesity',18)\n",
    "\n",
    "plot_clusters_for_two_variables(df_master,cluster_ids,'Asthma','Cancer',19)\n",
    "plot_clusters_for_two_variables(df_master,cluster_ids,'Asthma','Hypertension',20)\n",
    "plot_clusters_for_two_variables(df_master,cluster_ids,'Asthma','Asthma',21)"
   ]
  },
  {
   "cell_type": "code",
   "execution_count": 14,
   "metadata": {},
   "outputs": [],
   "source": [
    "# Create an empty list for the separate dataframes:\n",
    "\n",
    "separate_cluster_dataframes = []\n",
    "\n",
    "# Create a list of the cluster id numbers:\n",
    "\n",
    "clusters = range(df_master['optimal_hagglom_cluster_ids'].max() + 1)\n",
    "\n",
    "# For each cluster, take a reduced version of the main dataframe, filtered to contain only that cluster. \n",
    "\n",
    "for i in clusters:\n",
    "    separate_cluster_dataframes.append(df_master[df_master['optimal_hagglom_cluster_ids'] == i])\n",
    "\n",
    "# Create summary stats dataframes for each cluster:\n",
    "    \n",
    "separate_cluster_summary_stats = []\n",
    "\n",
    "for i in clusters:\n",
    "    separate_cluster_summary_stats.append(separate_cluster_dataframes[i].describe())"
   ]
  },
  {
   "cell_type": "markdown",
   "metadata": {},
   "source": [
    "### SUMMARY STATISTICS BY CLUSTER"
   ]
  },
  {
   "cell_type": "code",
   "execution_count": 22,
   "metadata": {},
   "outputs": [
    {
     "data": {
      "text/html": [
       "<div>\n",
       "<style scoped>\n",
       "    .dataframe tbody tr th:only-of-type {\n",
       "        vertical-align: middle;\n",
       "    }\n",
       "\n",
       "    .dataframe tbody tr th {\n",
       "        vertical-align: top;\n",
       "    }\n",
       "\n",
       "    .dataframe thead th {\n",
       "        text-align: right;\n",
       "    }\n",
       "</style>\n",
       "<table border=\"1\" class=\"dataframe\">\n",
       "  <thead>\n",
       "    <tr style=\"text-align: right;\">\n",
       "      <th></th>\n",
       "      <th>Hypertension</th>\n",
       "      <th>Obesity</th>\n",
       "      <th>Cancer</th>\n",
       "      <th>Depression</th>\n",
       "      <th>Mental health</th>\n",
       "      <th>Asthma</th>\n",
       "    </tr>\n",
       "  </thead>\n",
       "  <tbody>\n",
       "    <tr>\n",
       "      <td>count</td>\n",
       "      <td>39.000000</td>\n",
       "      <td>39.000000</td>\n",
       "      <td>39.000000</td>\n",
       "      <td>39.000000</td>\n",
       "      <td>39.000000</td>\n",
       "      <td>39.000000</td>\n",
       "    </tr>\n",
       "    <tr>\n",
       "      <td>mean</td>\n",
       "      <td>14.659963</td>\n",
       "      <td>10.067193</td>\n",
       "      <td>2.977819</td>\n",
       "      <td>10.370856</td>\n",
       "      <td>0.886981</td>\n",
       "      <td>6.235037</td>\n",
       "    </tr>\n",
       "    <tr>\n",
       "      <td>std</td>\n",
       "      <td>1.227229</td>\n",
       "      <td>1.592909</td>\n",
       "      <td>0.399839</td>\n",
       "      <td>1.066218</td>\n",
       "      <td>0.099210</td>\n",
       "      <td>0.401956</td>\n",
       "    </tr>\n",
       "    <tr>\n",
       "      <td>min</td>\n",
       "      <td>12.306925</td>\n",
       "      <td>5.820715</td>\n",
       "      <td>2.273070</td>\n",
       "      <td>8.725139</td>\n",
       "      <td>0.722217</td>\n",
       "      <td>5.237761</td>\n",
       "    </tr>\n",
       "    <tr>\n",
       "      <td>25%</td>\n",
       "      <td>13.532951</td>\n",
       "      <td>8.970802</td>\n",
       "      <td>2.676534</td>\n",
       "      <td>9.407543</td>\n",
       "      <td>0.815397</td>\n",
       "      <td>5.969850</td>\n",
       "    </tr>\n",
       "    <tr>\n",
       "      <td>50%</td>\n",
       "      <td>14.682241</td>\n",
       "      <td>10.246479</td>\n",
       "      <td>2.996502</td>\n",
       "      <td>10.406747</td>\n",
       "      <td>0.852009</td>\n",
       "      <td>6.329892</td>\n",
       "    </tr>\n",
       "    <tr>\n",
       "      <td>75%</td>\n",
       "      <td>15.579766</td>\n",
       "      <td>11.166555</td>\n",
       "      <td>3.268748</td>\n",
       "      <td>11.109240</td>\n",
       "      <td>0.960651</td>\n",
       "      <td>6.547431</td>\n",
       "    </tr>\n",
       "    <tr>\n",
       "      <td>max</td>\n",
       "      <td>16.600187</td>\n",
       "      <td>13.272109</td>\n",
       "      <td>3.840752</td>\n",
       "      <td>12.820154</td>\n",
       "      <td>1.106285</td>\n",
       "      <td>6.878169</td>\n",
       "    </tr>\n",
       "  </tbody>\n",
       "</table>\n",
       "</div>"
      ],
      "text/plain": [
       "       Hypertension    Obesity     Cancer  Depression  Mental health  \\\n",
       "count     39.000000  39.000000  39.000000   39.000000      39.000000   \n",
       "mean      14.659963  10.067193   2.977819   10.370856       0.886981   \n",
       "std        1.227229   1.592909   0.399839    1.066218       0.099210   \n",
       "min       12.306925   5.820715   2.273070    8.725139       0.722217   \n",
       "25%       13.532951   8.970802   2.676534    9.407543       0.815397   \n",
       "50%       14.682241  10.246479   2.996502   10.406747       0.852009   \n",
       "75%       15.579766  11.166555   3.268748   11.109240       0.960651   \n",
       "max       16.600187  13.272109   3.840752   12.820154       1.106285   \n",
       "\n",
       "          Asthma  \n",
       "count  39.000000  \n",
       "mean    6.235037  \n",
       "std     0.401956  \n",
       "min     5.237761  \n",
       "25%     5.969850  \n",
       "50%     6.329892  \n",
       "75%     6.547431  \n",
       "max     6.878169  "
      ]
     },
     "execution_count": 22,
     "metadata": {},
     "output_type": "execute_result"
    }
   ],
   "source": [
    "#separate_cluster_summary_stats[1]\n",
    "#separate_cluster_summary_stats[0]\n",
    "#df_k_means_master[df_k_means_master['optimal_kmeans_cluster_ids'] == 0]\n",
    "\n",
    "cluster_0_areas = df_master[df_master['optimal_hagglom_cluster_ids'] == 1].index\n",
    "cluster_0_data = df_NHS_transform.loc[cluster_0_areas,:]\n",
    "\n",
    "cluster_0_data.describe()"
   ]
  },
  {
   "cell_type": "code",
   "execution_count": 23,
   "metadata": {},
   "outputs": [
    {
     "data": {
      "text/html": [
       "<div>\n",
       "<style scoped>\n",
       "    .dataframe tbody tr th:only-of-type {\n",
       "        vertical-align: middle;\n",
       "    }\n",
       "\n",
       "    .dataframe tbody tr th {\n",
       "        vertical-align: top;\n",
       "    }\n",
       "\n",
       "    .dataframe thead th {\n",
       "        text-align: right;\n",
       "    }\n",
       "</style>\n",
       "<table border=\"1\" class=\"dataframe\">\n",
       "  <thead>\n",
       "    <tr style=\"text-align: right;\">\n",
       "      <th></th>\n",
       "      <th>Hypertension</th>\n",
       "      <th>Obesity</th>\n",
       "      <th>Cancer</th>\n",
       "      <th>Depression</th>\n",
       "      <th>Mental health</th>\n",
       "      <th>Asthma</th>\n",
       "    </tr>\n",
       "  </thead>\n",
       "  <tbody>\n",
       "    <tr>\n",
       "      <td>count</td>\n",
       "      <td>5.000000</td>\n",
       "      <td>5.000000</td>\n",
       "      <td>5.000000</td>\n",
       "      <td>5.000000</td>\n",
       "      <td>5.000000</td>\n",
       "      <td>5.000000</td>\n",
       "    </tr>\n",
       "    <tr>\n",
       "      <td>mean</td>\n",
       "      <td>11.008604</td>\n",
       "      <td>7.667700</td>\n",
       "      <td>1.871514</td>\n",
       "      <td>7.176908</td>\n",
       "      <td>1.115640</td>\n",
       "      <td>4.519537</td>\n",
       "    </tr>\n",
       "    <tr>\n",
       "      <td>std</td>\n",
       "      <td>0.471690</td>\n",
       "      <td>1.189672</td>\n",
       "      <td>0.229079</td>\n",
       "      <td>0.575434</td>\n",
       "      <td>0.109855</td>\n",
       "      <td>0.124560</td>\n",
       "    </tr>\n",
       "    <tr>\n",
       "      <td>min</td>\n",
       "      <td>10.560932</td>\n",
       "      <td>6.165639</td>\n",
       "      <td>1.525505</td>\n",
       "      <td>6.384569</td>\n",
       "      <td>0.966410</td>\n",
       "      <td>4.389151</td>\n",
       "    </tr>\n",
       "    <tr>\n",
       "      <td>25%</td>\n",
       "      <td>10.616230</td>\n",
       "      <td>7.256099</td>\n",
       "      <td>1.774493</td>\n",
       "      <td>6.912117</td>\n",
       "      <td>1.073748</td>\n",
       "      <td>4.472412</td>\n",
       "    </tr>\n",
       "    <tr>\n",
       "      <td>50%</td>\n",
       "      <td>10.891937</td>\n",
       "      <td>7.256698</td>\n",
       "      <td>1.925375</td>\n",
       "      <td>7.118969</td>\n",
       "      <td>1.122379</td>\n",
       "      <td>4.474128</td>\n",
       "    </tr>\n",
       "    <tr>\n",
       "      <td>75%</td>\n",
       "      <td>11.307605</td>\n",
       "      <td>8.402993</td>\n",
       "      <td>2.033334</td>\n",
       "      <td>7.706745</td>\n",
       "      <td>1.147812</td>\n",
       "      <td>4.541747</td>\n",
       "    </tr>\n",
       "    <tr>\n",
       "      <td>max</td>\n",
       "      <td>11.666318</td>\n",
       "      <td>9.257070</td>\n",
       "      <td>2.098862</td>\n",
       "      <td>7.762141</td>\n",
       "      <td>1.267849</td>\n",
       "      <td>4.720247</td>\n",
       "    </tr>\n",
       "  </tbody>\n",
       "</table>\n",
       "</div>"
      ],
      "text/plain": [
       "       Hypertension   Obesity    Cancer  Depression  Mental health    Asthma\n",
       "count      5.000000  5.000000  5.000000    5.000000       5.000000  5.000000\n",
       "mean      11.008604  7.667700  1.871514    7.176908       1.115640  4.519537\n",
       "std        0.471690  1.189672  0.229079    0.575434       0.109855  0.124560\n",
       "min       10.560932  6.165639  1.525505    6.384569       0.966410  4.389151\n",
       "25%       10.616230  7.256099  1.774493    6.912117       1.073748  4.472412\n",
       "50%       10.891937  7.256698  1.925375    7.118969       1.122379  4.474128\n",
       "75%       11.307605  8.402993  2.033334    7.706745       1.147812  4.541747\n",
       "max       11.666318  9.257070  2.098862    7.762141       1.267849  4.720247"
      ]
     },
     "execution_count": 23,
     "metadata": {},
     "output_type": "execute_result"
    }
   ],
   "source": [
    "#separate_cluster_summary_stats[1]\n",
    "#separate_cluster_summary_stats[0]\n",
    "#df_k_means_master[df_k_means_master['optimal_kmeans_cluster_ids'] == 0]\n",
    "\n",
    "cluster_0_areas = df_master[df_master['optimal_hagglom_cluster_ids'] == 2].index\n",
    "cluster_0_data = df_NHS_transform.loc[cluster_0_areas,:]\n",
    "\n",
    "cluster_0_data.describe()"
   ]
  },
  {
   "cell_type": "code",
   "execution_count": 24,
   "metadata": {},
   "outputs": [
    {
     "data": {
      "text/plain": [
       "Index(['NORTH WEST LONDON STP', 'NORTH CENTRAL LONDON STP',\n",
       "       'NORTH EAST LONDON STP', 'SOUTH EAST LONDON STP',\n",
       "       'SOUTH WEST LONDON STP'],\n",
       "      dtype='object', name='Area name')"
      ]
     },
     "execution_count": 24,
     "metadata": {},
     "output_type": "execute_result"
    }
   ],
   "source": []
  }
 ],
 "metadata": {
  "kernelspec": {
   "display_name": "Python 3",
   "language": "python",
   "name": "python3"
  },
  "language_info": {
   "codemirror_mode": {
    "name": "ipython",
    "version": 3
   },
   "file_extension": ".py",
   "mimetype": "text/x-python",
   "name": "python",
   "nbconvert_exporter": "python",
   "pygments_lexer": "ipython3",
   "version": "3.7.4"
  }
 },
 "nbformat": 4,
 "nbformat_minor": 1
}
